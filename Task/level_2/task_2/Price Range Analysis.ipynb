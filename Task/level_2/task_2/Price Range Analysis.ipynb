{
 "cells": [
  {
   "cell_type": "markdown",
   "id": "7b7ce1f8-87af-4cbe-b139-ae884d2cf7b8",
   "metadata": {},
   "source": [
    "### **📌 Objective – Level 2, Task 2: Price Range Analysis**  \n",
    "\n",
    "In this task, we aim to **analyze the impact of price range on restaurant ratings**.  \n",
    "\n",
    "### **🎯 Key Goals:**  \n",
    "1️⃣ **Determine the most common price range** among all restaurants.  \n",
    "2️⃣ **Calculate the average rating** for each price range.  \n",
    "3️⃣ **Identify the rating color** that represents the **highest average rating** among different price ranges.  \n",
    "\n",
    "This analysis will help us understand:  \n",
    "✔ How pricing influences restaurant distribution.  \n",
    "✔ Whether **higher-priced restaurants receive better ratings**.  \n",
    "✔ Which **rating color is associated with the best-rated restaurants**.  \n",
    "\n",
    "---\n",
    "\n"
   ]
  },
  {
   "cell_type": "code",
   "execution_count": 9,
   "id": "5a93d780-fe8f-44ac-bb19-fe279b83d835",
   "metadata": {},
   "outputs": [],
   "source": [
    "import pandas as pd \n",
    "df = pd.read_csv('leve1_dataset.csv')"
   ]
  },
  {
   "cell_type": "markdown",
   "id": "688c47a4-c949-49fe-9f39-eecfbb8c7a85",
   "metadata": {},
   "source": [
    "### Step 1: Determine the Most Common Price Range\n",
    "In this step, we will identify the price range that appears most frequently among all restaurants."
   ]
  },
  {
   "cell_type": "code",
   "execution_count": 12,
   "id": "2ef37dc3-0122-4eee-9e1c-71e45d7f204b",
   "metadata": {},
   "outputs": [
    {
     "name": "stdout",
     "output_type": "stream",
     "text": [
      "The most common price range is: 1\n"
     ]
    }
   ],
   "source": [
    "# Find the most common price range\n",
    "most_common_price_range = df['Price range'].value_counts().idxmax()\n",
    "\n",
    "# Print result\n",
    "print(f\"The most common price range is: {most_common_price_range}\")\n"
   ]
  },
  {
   "cell_type": "markdown",
   "id": "0ce03691-83bc-48d4-9258-600aa7c37a4b",
   "metadata": {},
   "source": [
    "### Step 2: Calculate the Average Rating for Each Price Range\n",
    "Now, let’s calculate the average restaurant rating for each price range to see if higher-priced restaurants get better ratings."
   ]
  },
  {
   "cell_type": "code",
   "execution_count": 15,
   "id": "1b071da5-6d39-44e7-8ab2-8e337a00a958",
   "metadata": {},
   "outputs": [
    {
     "name": "stdout",
     "output_type": "stream",
     "text": [
      "Price range\n",
      "1    1.999887\n",
      "2    2.941054\n",
      "3    3.683381\n",
      "4    3.817918\n",
      "Name: Aggregate rating, dtype: float64\n"
     ]
    }
   ],
   "source": [
    "# Calculate the average rating for each price range\n",
    "avg_rating_by_price = df.groupby('Price range')['Aggregate rating'].mean()\n",
    "\n",
    "# Print results\n",
    "print(avg_rating_by_price)"
   ]
  },
  {
   "cell_type": "markdown",
   "id": "1ff73c89-2261-49bd-b260-4e810113aeba",
   "metadata": {},
   "source": [
    " ### Step 3: Identify the Rating Color with the Highest Average Rating\n",
    "Now, let’s check which rating color is associated with the highest average rating."
   ]
  },
  {
   "cell_type": "code",
   "execution_count": 18,
   "id": "07ddc479-d002-43ba-a800-73f184c6b6c5",
   "metadata": {},
   "outputs": [
    {
     "name": "stdout",
     "output_type": "stream",
     "text": [
      "The rating color with the highest average rating is: Dark Green\n"
     ]
    }
   ],
   "source": [
    "# Find the rating color that represents the highest average rating\n",
    "highest_rated_color = df.groupby('Rating color')['Aggregate rating'].mean().idxmax()\n",
    "\n",
    "# Print result\n",
    "print(f\"The rating color with the highest average rating is: {highest_rated_color}\")\n"
   ]
  },
  {
   "cell_type": "markdown",
   "id": "19c0bbe5-1069-45ef-81a5-d102bf291684",
   "metadata": {},
   "source": [
    "### **📊 Level 2 – Task 2: Price Range Analysis**  \r\n",
    "\r\n",
    "---\r\n",
    "\r\n",
    "### **📌 Objective**  \r\n",
    "- Determine the **most common price range** among all restaurants.  \r\n",
    "- Calculate the **average rating** for each price range.  \r\n",
    "- Identify the **rating color** that represents the highest average rating among different price ranges.  \r\n",
    "\r\n",
    "---\r\n",
    "\r\n",
    "### **1️⃣ Step 1: Most Common Price Range**  \r\n",
    "- Identified the **most common price range** based on restaurant distribution.  \r\n",
    "- **Insight:** The majority of restaurants fall within this price range, making it the most frequently chosen by customers.  \r\n",
    "\r\n",
    "---\r\n",
    "\r\n",
    "### **2️⃣ Step 2: Average Rating for Each Price Range**  \r\n",
    "- Calculated the **average restaurant rating** for each price range.  \r\n",
    "- **Insight:** Higher-priced restaurants tend to receive **better ratings**, indicating a possible correlation between **higher pricing and better customer experience**.  \r\n",
    "\r\n",
    "---\r\n",
    "\r\n",
    "### **3️⃣ Step 3: Rating Color with the Highest Average Rating**  \r\n",
    "- Identified the **rating color associated with the highest average rating**.  \r\n",
    "- **Insight:** The **best-rated restaurants are commonly associated with a specific color**, representing excellence in service aove tif you’re ready to start Task 3!** 😊"
   ]
  },
  {
   "cell_type": "code",
   "execution_count": null,
   "id": "b849ed2f-6fa7-4167-88b7-ae5ce07d3dd4",
   "metadata": {},
   "outputs": [],
   "source": []
  },
  {
   "cell_type": "code",
   "execution_count": null,
   "id": "f2e43144-0407-4ec1-9990-7f9a91bd2607",
   "metadata": {},
   "outputs": [],
   "source": []
  }
 ],
 "metadata": {
  "kernelspec": {
   "display_name": "Python 3 (ipykernel)",
   "language": "python",
   "name": "python3"
  },
  "language_info": {
   "codemirror_mode": {
    "name": "ipython",
    "version": 3
   },
   "file_extension": ".py",
   "mimetype": "text/x-python",
   "name": "python",
   "nbconvert_exporter": "python",
   "pygments_lexer": "ipython3",
   "version": "3.12.3"
  }
 },
 "nbformat": 4,
 "nbformat_minor": 5
}
