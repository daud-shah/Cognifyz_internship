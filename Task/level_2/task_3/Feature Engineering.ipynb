{
 "cells": [
  {
   "cell_type": "markdown",
   "id": "d533cf8b-1cd6-4a0c-84e3-f267584b7fc7",
   "metadata": {},
   "source": [
    "### **📌 Objective – Level 2, Task 3: Feature Engineering**  \r\n",
    "\r\n",
    "In this task, we aim to **enhance the dataset by creating new features** that improve data analysis and model performance.  \r\n",
    "\r\n",
    "### **🎯 Key Goals:**  \r\n",
    "1️⃣ **Extract additional features** from existing columns (e.g., **length of restaurant name and address**).  \r\n",
    "2️⃣ **Create new features** by encoding categorical variables (e.g., **\"Has Table Booking\" and \"Has Online Delivery\"** as numerical values).  \r\n",
    "\r\n",
    "This analysis will help us:  \r\n",
    "✔ Improve **data quality and depth** by adding meaningful features.  \r\n",
    "✔ Prepare the dataset for **better insights and machine learning modelsyou're ready! 😊"
   ]
  },
  {
   "cell_type": "code",
   "execution_count": 20,
   "id": "ab98c22e-4d39-4d50-b627-e839ab05920a",
   "metadata": {},
   "outputs": [],
   "source": [
    "import pandas as pd\n",
    "df = pd.read_csv('leve1_dataset.csv')"
   ]
  },
  {
   "cell_type": "markdown",
   "id": "bb7a94ad-5356-4dfc-90f3-faf1eb7a262b",
   "metadata": {},
   "source": [
    "### Step 1: Extract Additional Features from Existing Columns\n",
    "In this step, we will create new features from existing data to enhance our dataset.\n",
    "\n",
    "🔹 Features to Extract:\n",
    "\n",
    "✔ Restaurant Name Length → The number of characters in the restaurant name.\n",
    "\n",
    "✔ Address Length → The number of characters in the address.\n",
    "\n"
   ]
  },
  {
   "cell_type": "code",
   "execution_count": 23,
   "id": "b161bc6d-2d1f-4820-91b1-0498fa931ad4",
   "metadata": {},
   "outputs": [
    {
     "data": {
      "text/html": [
       "<div>\n",
       "<style scoped>\n",
       "    .dataframe tbody tr th:only-of-type {\n",
       "        vertical-align: middle;\n",
       "    }\n",
       "\n",
       "    .dataframe tbody tr th {\n",
       "        vertical-align: top;\n",
       "    }\n",
       "\n",
       "    .dataframe thead th {\n",
       "        text-align: right;\n",
       "    }\n",
       "</style>\n",
       "<table border=\"1\" class=\"dataframe\">\n",
       "  <thead>\n",
       "    <tr style=\"text-align: right;\">\n",
       "      <th></th>\n",
       "      <th>Restaurant Name</th>\n",
       "      <th>Restaurant Name Length</th>\n",
       "      <th>Address</th>\n",
       "      <th>Address Length</th>\n",
       "    </tr>\n",
       "  </thead>\n",
       "  <tbody>\n",
       "    <tr>\n",
       "      <th>0</th>\n",
       "      <td>Le Petit Souffle</td>\n",
       "      <td>16</td>\n",
       "      <td>Third Floor, Century City Mall, Kalayaan Avenu...</td>\n",
       "      <td>71</td>\n",
       "    </tr>\n",
       "    <tr>\n",
       "      <th>1</th>\n",
       "      <td>Izakaya Kikufuji</td>\n",
       "      <td>16</td>\n",
       "      <td>Little Tokyo, 2277 Chino Roces Avenue, Legaspi...</td>\n",
       "      <td>67</td>\n",
       "    </tr>\n",
       "    <tr>\n",
       "      <th>2</th>\n",
       "      <td>Heat - Edsa Shangri-La</td>\n",
       "      <td>22</td>\n",
       "      <td>Edsa Shangri-La, 1 Garden Way, Ortigas, Mandal...</td>\n",
       "      <td>56</td>\n",
       "    </tr>\n",
       "    <tr>\n",
       "      <th>3</th>\n",
       "      <td>Ooma</td>\n",
       "      <td>4</td>\n",
       "      <td>Third Floor, Mega Fashion Hall, SM Megamall, O...</td>\n",
       "      <td>70</td>\n",
       "    </tr>\n",
       "    <tr>\n",
       "      <th>4</th>\n",
       "      <td>Sambo Kojin</td>\n",
       "      <td>11</td>\n",
       "      <td>Third Floor, Mega Atrium, SM Megamall, Ortigas...</td>\n",
       "      <td>64</td>\n",
       "    </tr>\n",
       "  </tbody>\n",
       "</table>\n",
       "</div>"
      ],
      "text/plain": [
       "          Restaurant Name  Restaurant Name Length  \\\n",
       "0        Le Petit Souffle                      16   \n",
       "1        Izakaya Kikufuji                      16   \n",
       "2  Heat - Edsa Shangri-La                      22   \n",
       "3                    Ooma                       4   \n",
       "4             Sambo Kojin                      11   \n",
       "\n",
       "                                             Address  Address Length  \n",
       "0  Third Floor, Century City Mall, Kalayaan Avenu...              71  \n",
       "1  Little Tokyo, 2277 Chino Roces Avenue, Legaspi...              67  \n",
       "2  Edsa Shangri-La, 1 Garden Way, Ortigas, Mandal...              56  \n",
       "3  Third Floor, Mega Fashion Hall, SM Megamall, O...              70  \n",
       "4  Third Floor, Mega Atrium, SM Megamall, Ortigas...              64  "
      ]
     },
     "execution_count": 23,
     "metadata": {},
     "output_type": "execute_result"
    }
   ],
   "source": [
    "# Create new features\n",
    "df['Restaurant Name Length'] = df['Restaurant Name'].apply(len)\n",
    "df['Address Length'] = df['Address'].apply(len)\n",
    "\n",
    "# Display first few rows to verify\n",
    "df[['Restaurant Name', 'Restaurant Name Length', 'Address', 'Address Length']].head()\n"
   ]
  },
  {
   "cell_type": "markdown",
   "id": "28c39a38-b6a4-423a-98fa-2b3600d89bfe",
   "metadata": {},
   "source": [
    "### Step 2: Encode Categorical Features\n",
    "Now, let’s convert categorical variables into numerical values so they can be used in data analysis and machine learning.\n",
    "\n",
    "✔ \"Has Table Booking\" → Convert \"Yes\" to 1 and \"No\" to 0.\n",
    "\n",
    "✔ \"Has Online Delivery\" → Convert \"Yes\" to 1 and \"No\" to 0.\n",
    "\n"
   ]
  },
  {
   "cell_type": "code",
   "execution_count": 26,
   "id": "685ae20a-eb60-4096-99f7-4791b2cb3ae6",
   "metadata": {},
   "outputs": [
    {
     "name": "stdout",
     "output_type": "stream",
     "text": [
      "   Has Table booking  Has Online delivery\n",
      "0                  1                    0\n",
      "1                  1                    0\n",
      "2                  1                    0\n",
      "3                  0                    0\n",
      "4                  1                    0\n"
     ]
    }
   ],
   "source": [
    "# Convert categorical variables into numerical values\n",
    "df['Has Table booking'] = df['Has Table booking'].replace({'Yes': 1, 'No': 0})\n",
    "df['Has Online delivery'] = df['Has Online delivery'].replace({'Yes': 1, 'No': 0})\n",
    "\n",
    "# Verify the changes\n",
    "print(df[['Has Table booking', 'Has Online delivery']].head())\n"
   ]
  },
  {
   "cell_type": "code",
   "execution_count": 32,
   "id": "e61701ae-f65a-458a-abaa-ad602ad949e2",
   "metadata": {},
   "outputs": [],
   "source": [
    "# Save to CSV\n",
    "df.to_csv('level_2_dataset.csv', index=False)"
   ]
  },
  {
   "cell_type": "markdown",
   "id": "950ad4a0-14a6-4aca-b9a9-cf10026d0af0",
   "metadata": {},
   "source": [
    "# 📊 Level 2 – Task 3: Feature Engineering  \r\n",
    "\r\n",
    "## 📌 Objective  \r\n",
    "- Extract additional features from existing columns (e.g., **length of restaurant name and address**).  \r\n",
    "- Create new features by encoding categorical variables (e.g., **\"Has Table Booking\" and \"Has Online Delivery\"** as numerical values).  \r\n",
    "\r\n",
    "---\r\n",
    "\r\n",
    "## **1️⃣ Step 1: Extract Additional Features from Existing Columns**  \r\n",
    "🔹 **New Features Created:**  \r\n",
    "✔ **Restaurant Name Length** → Number of characters in the restaurant name.  \r\n",
    "✔ **Address Length** → Number of characters in the address.  \r\n",
    "\r\n",
    "🔹 **Key Insights:**  \r\n",
    "✔ These features help analyze the **complexity of restaurant names and addresses**.  \r\n",
    "✔ Longer restaurant names may indicate **premium or themed dining experiences**.  \r\n",
    "\r\n",
    "---\r\n",
    "\r\n",
    "## **2️⃣ Step 2: Encode Categorical Features**  \r\n",
    "🔹 **Converted categorical variables into numerical values:**  \r\n",
    "✔ **\"Has Table Booking\"** → `\"Yes\"` → `1`, `\"No\"` → `0`  \r\n",
    "✔ **\"Has Online Delivery\"** → `\"Yes\"` → `1`, `\"No\"` → `0`  \r\n",
    "\r\n",
    "🔹 **Key Insights:**  \r\n",
    "✔ This transformation makes the dataset **ready for statistical analysis and machine learning models**.  \r\n",
    "✔ Encoded features allow us to explore **how table booking and online delivery impact ratings and sales**.  \r\n",
    "\r\n",
    "---\r\n",
    "\r\n",
    "## 🎯 **Final Summary**  \r\n",
    "✔ Successfully **extracted new features** from restaurant names and addresses.  \r\n",
    "✔ **Encoded categorical variables**, making the dataset more stru you’re ready to start Task 4!** 😊  \r\n",
    " you’re ready to start Task 4!** 😊  \r\n"
   ]
  },
  {
   "cell_type": "markdown",
   "id": "cdffa8c2-1875-488f-bd2f-8dd869b4a912",
   "metadata": {},
   "source": [
    "### **📊 Level 2 – Task 3: Feature Engineering**  \r\n",
    "\r\n",
    "---\r\n",
    "\r\n",
    "### **📌 Objective**  \r\n",
    "- Extract additional features from existing columns (e.g., **length of restaurant name and address**).  \r\n",
    "- Create new features by encoding categorical variables (e.g., **\"Has Table Booking\" and \"Has Online Delivery\"** as numerical values).  \r\n",
    "\r\n",
    "---\r\n",
    "\r\n",
    "### **1️⃣ Step 1: Extract Additional Features from Existing Columns**  \r\n",
    "🔹 **New Features Created:**  \r\n",
    "✔ **Restaurant Name Length** → Number of characters in the restaurant name.  \r\n",
    "✔ **Address Length** → Number of characters in the address.  \r\n",
    "\r\n",
    "🔹 **Key Insights:**  \r\n",
    "✔ These features help analyze the **complexity of restaurant names and addresses**.  \r\n",
    "✔ Longer restaurant names may indicate **premium or themed dining experiences**.  \r\n",
    "\r\n",
    "---\r\n",
    "\r\n",
    "### **2️⃣ Step 2: Encode Categorical Features**  \r\n",
    "🔹 **Converted categorical variables into numerical values:**  \r\n",
    "✔ **\"Has Table Booking\"** → `\"Yes\"` → `1`, `\"No\"` → `0`  \r\n",
    "✔ **\"Has Online Delivery\"** → `\"Yes\"` → `1`, `\"No\"` → `0`  \r\n",
    "\r\n",
    "🔹 **Key Insights:**  \r\n",
    "✔ This transformation makes the dataset **ready for statistical analysis and machine learning models**.  \r\n",
    "✔ Encoded features allow us to explore **how table booking and online delivery impact ratings and sales**.  \r\n",
    "\r\n",
    "---\r\n",
    "\r\n",
    "### **🎯 Final Summary**  \r\n",
    "✔ Successfully **extracted new features** from restaurant names and addresses.  \r\n",
    "✔ **Encoded categorical variables**, making the dataset more structured and analysis-friendly.  \r\n",
    "✔ **Task 3 Completed!** 🚀 Ready to move to **Level 2 – Tow if you’re ready to start Task 4!** 😊"
   ]
  }
 ],
 "metadata": {
  "kernelspec": {
   "display_name": "Python 3 (ipykernel)",
   "language": "python",
   "name": "python3"
  },
  "language_info": {
   "codemirror_mode": {
    "name": "ipython",
    "version": 3
   },
   "file_extension": ".py",
   "mimetype": "text/x-python",
   "name": "python",
   "nbconvert_exporter": "python",
   "pygments_lexer": "ipython3",
   "version": "3.12.3"
  }
 },
 "nbformat": 4,
 "nbformat_minor": 5
}
