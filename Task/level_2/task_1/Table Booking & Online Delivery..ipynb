{
 "cells": [
  {
   "cell_type": "markdown",
   "id": "bd629e3b-888d-4411-9b02-f56a4d9a5217",
   "metadata": {},
   "source": [
    "### **📌 Objective – Level 2, Task 1: Table Booking & Online Delivery**  \r\n",
    "\r\n",
    "In this task, we aim to **analyze the impact of table booking and online delivery on restaurant performance**.  \r\n",
    "\r\n",
    "### **🎯 Key Goals:**  \r\n",
    "1️⃣ **Determine the percentage of restaurants** that offer **table booking** and **online delivery**.  \r\n",
    "2️⃣ **Compare the average ratings** of restaurants with and without **table booking**.  \r\n",
    "3️⃣ **Analyze how online delivery availability varies across different price ranges**.  \r\n",
    "\r\n",
    "This analysis will help us understand:  \r\n",
    "✔ How many restaurants provide these services.  \r\n",
    "✔ Whether table booking affects restaurant ratings.  \r\n",
    "✔ If online delivery is more common in high-end or budget restaurn you're ready! 😊"
   ]
  },
  {
   "cell_type": "code",
   "execution_count": 3,
   "id": "e125253d-07fb-4de3-8476-d72f1d17bc29",
   "metadata": {},
   "outputs": [],
   "source": [
    "import pandas as pd\n",
    "df = pd.read_csv('leve1_dataset.csv')"
   ]
  },
  {
   "cell_type": "markdown",
   "id": "9caceeb4-cf71-41d2-bd37-04ac05db3e3d",
   "metadata": {},
   "source": [
    "### 📊 Step 1: Calculate the Percentage of Restaurants Offering These Services"
   ]
  },
  {
   "cell_type": "code",
   "execution_count": 6,
   "id": "ca714c8a-b59e-43c4-8c50-79ce652a25d5",
   "metadata": {},
   "outputs": [
    {
     "name": "stdout",
     "output_type": "stream",
     "text": [
      "Percentage of restaurants offering table booking: 12.12%\n",
      "Percentage of restaurants offering online delivery: 25.66%\n"
     ]
    }
   ],
   "source": [
    "# Calculate the percentage of restaurants offering table booking and online delivery\n",
    "table_booking_percentage = (df['Has Table booking'].sum() / len(df)) * 100\n",
    "online_delivery_percentage = (df['Has Online delivery'].sum() / len(df)) * 100\n",
    "\n",
    "# Print results\n",
    "print(f\"Percentage of restaurants offering table booking: {table_booking_percentage:.2f}%\")\n",
    "print(f\"Percentage of restaurants offering online delivery: {online_delivery_percentage:.2f}%\")"
   ]
  },
  {
   "cell_type": "markdown",
   "id": "95f961af-0c61-44a5-959b-afbeee462a04",
   "metadata": {},
   "source": [
    "#### 📊 Insights from Step 1:\n",
    "✔ Only 12.12% of restaurants offer table booking – This suggests that most restaurants operate without reservations.\n",
    "\n",
    "✔ 25.66% of restaurants provide online delivery – Online delivery is more common than table booking, showing that customers prefer convenience.\n",
    "\n"
   ]
  },
  {
   "cell_type": "markdown",
   "id": "ef48365e-ee34-4987-92c5-66dc2f7cf434",
   "metadata": {},
   "source": [
    "### 📌 Next Step: Step 2 – Compare Ratings of Restaurants with and without Table Booking\n",
    "Now, let’s analyze whether restaurants with table booking receive higher ratings."
   ]
  },
  {
   "cell_type": "code",
   "execution_count": 10,
   "id": "5bb7a8f5-7d8b-4f90-a163-58dc93535d47",
   "metadata": {},
   "outputs": [
    {
     "name": "stdout",
     "output_type": "stream",
     "text": [
      "Has Table booking\n",
      "0    2.559359\n",
      "1    3.441969\n",
      "Name: Aggregate rating, dtype: float64\n"
     ]
    }
   ],
   "source": [
    "# Compare the average ratings of restaurants with and without table booking\n",
    "ratings_comparison = df.groupby('Has Table booking')['Aggregate rating'].mean()\n",
    "\n",
    "# Print results\n",
    "print(ratings_comparison)\n"
   ]
  },
  {
   "cell_type": "markdown",
   "id": "7925f555-314c-4c77-b433-189979b377a7",
   "metadata": {},
   "source": [
    "#### 📊 Insights from Step 2: Table Booking vs. Ratings\n",
    "✔ Restaurants without table booking (0) have an average rating of 2.56.\n",
    "\n",
    "✔ Restaurants with table booking (1) have a higher average rating of 3.44.\n",
    "\n",
    "🔹 Key Takeaways:\n",
    "\n",
    "✅ Restaurants offering table booking receive better ratings.\n",
    "\n",
    "✅ This suggests that customers prefer making reservations, and higher-end restaurants may provide better service.\n",
    "\n",
    "✅ Restaurants without table booking tend to have lower ratings, possibly due to crowded spaces or inconsistent service."
   ]
  },
  {
   "cell_type": "markdown",
   "id": "395ed2f2-bedd-47a3-b996-d49d1eb432fe",
   "metadata": {},
   "source": [
    "### Next Step: Step 3 – Analyze Online Delivery Availability by Price Range\n",
    "Now, let’s check whether online delivery is more common in low-cost or high-cost restaurants."
   ]
  },
  {
   "cell_type": "code",
   "execution_count": 14,
   "id": "87f362c6-c724-4495-af23-3127c6b06adb",
   "metadata": {},
   "outputs": [
    {
     "name": "stdout",
     "output_type": "stream",
     "text": [
      "Price range\n",
      "1    15.774077\n",
      "2    41.310633\n",
      "3    29.190341\n",
      "4     9.044369\n",
      "Name: Has Online delivery, dtype: float64\n"
     ]
    }
   ],
   "source": [
    "# Compare online delivery availability among different price ranges\n",
    "delivery_by_price = df.groupby('Price range')['Has Online delivery'].mean() * 100\n",
    "\n",
    "# Print results\n",
    "print(delivery_by_price)\n"
   ]
  },
  {
   "cell_type": "markdown",
   "id": "4e464940-ff69-4609-ad85-352448d3b2f3",
   "metadata": {},
   "source": [
    "### **📊 Insights from Step 3: Online Delivery Availability by Price Range**  \r\n",
    "\r\n",
    "✔ **15.77% of budget restaurants (Price Range 1) offer online delivery.**  \r\n",
    "✔ **41.31% of mid-range restaurants (Price Range 2) offer online delivery – the highest percentage!**  \r\n",
    "✔ **29.19% of premium restaurants (Price Range 3) offer online delivery.**  \r\n",
    "✔ **Only 9.04% of high-end restaurants (Price Range 4) provide online delivery.**  \r\n",
    "\r\n",
    "---\r\n",
    "\r\n",
    "### **🔹 Key Takeaways:**  \r\n",
    "✅ **Mid-range restaurants (Price Range 2) offer online delivery the most** – they likely target customers who prefer convenience.  \r\n",
    "✅ **High-end restaurants (Price Range 4) rarely provide online delivery** – these places focus on in-house dining experiences.  \r\n",
    "✅ **Budget restaurants (Price Range 1) have limited online delivery services**, possibly due to operational conyou want to proceed! 😊"
   ]
  },
  {
   "cell_type": "markdown",
   "id": "b5d6519d-928b-42f4-84f3-1a1e793a96f7",
   "metadata": {},
   "source": [
    "### **📊 Level 2 – Task 1: Table Booking & Online Delivery**  \r\n",
    "\r\n",
    "---\r\n",
    "\r\n",
    "### **📌 Objective**  \r\n",
    "- Determine the **percentage of restaurants** offering **table booking** and **online delivery**.  \r\n",
    "- Compare the **average ratings** of restaurants with and without **table booking**.  \r\n",
    "- Analyze how **online delivery availability** varies across **different price ranges**.  \r\n",
    "\r\n",
    "---\r\n",
    "\r\n",
    "### **1️⃣ Step 1: Percentage of Restaurants Offering Table Booking & Online Delivery**  \r\n",
    "- **Table Booking:** 12.12% of restaurants offer table booking.  \r\n",
    "- **Online Delivery:** 25.66% of restaurants provide online delivery.  \r\n",
    "- **Insight:** Online delivery is more common than table booking, indicating a shift toward **convenience and takeout services**.  \r\n",
    "\r\n",
    "---\r\n",
    "\r\n",
    "### **2️⃣ Step 2: Comparing Ratings of Table Booking vs. Non-Table Booking Restaurants**  \r\n",
    "- **Restaurants without table booking have an average rating of** **2.56**.  \r\n",
    "- **Restaurants with table booking have an average rating of** **3.44**.  \r\n",
    "- **Insight:** Restaurants offering table booking tend to have **higher ratings**, suggesting that **reservation-based dining improves customer experience**.  \r\n",
    "\r\n",
    "---\r\n",
    "\r\n",
    "### **3️⃣ Step 3: Online Delivery Availability by Price Range**  \r\n",
    "- **Price Range 1 (Budget Restaurants):** 15.77% offer online delivery.  \r\n",
    "- **Price Range 2 (Mid-Range Restaurants):** 41.31% offer online delivery (**highest percentage**).  \r\n",
    "- **Price Range 3 (Premium Restaurants):** 29.19% offer online delivery.  \r\n",
    "- **Price Range 4 (High-End Restaurants):** Only 9.04% offer online delivery.  \r\n",
    "- **Insight:** Online delivery is **most common in mid-range restaurants**, while **high-end restaurants focus on dine-in experiences**.  \r\n",
    "\r\n",
    "---\r\n",
    "\r\n",
    "### **🎯 Final Summary**  \r\n",
    "✔ **Successfully completed Level 2 – Task 1: Table Booking & Online Delivery.**  \r\n",
    "✔ **Extracted key insights on table bookinmknow if you’re ready to start Task 2!** 😊"
   ]
  },
  {
   "cell_type": "code",
   "execution_count": null,
   "id": "9ce5c0c8-065d-4ecd-b4d2-2016241f1b5c",
   "metadata": {},
   "outputs": [],
   "source": []
  }
 ],
 "metadata": {
  "kernelspec": {
   "display_name": "Python 3 (ipykernel)",
   "language": "python",
   "name": "python3"
  },
  "language_info": {
   "codemirror_mode": {
    "name": "ipython",
    "version": 3
   },
   "file_extension": ".py",
   "mimetype": "text/x-python",
   "name": "python",
   "nbconvert_exporter": "python",
   "pygments_lexer": "ipython3",
   "version": "3.12.3"
  }
 },
 "nbformat": 4,
 "nbformat_minor": 5
}
