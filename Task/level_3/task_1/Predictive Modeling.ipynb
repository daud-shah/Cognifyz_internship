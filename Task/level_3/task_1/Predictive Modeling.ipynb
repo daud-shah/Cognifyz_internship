{
 "cells": [
  {
   "cell_type": "markdown",
   "id": "ee51617d-3b4b-47d6-a066-44b5afdf6fa4",
   "metadata": {},
   "source": [
    "### **📌 Objective – Level 3, Task 1: Predictive Modeling**  \n",
    "\n",
    "In this task, we aim to **build a regression model** to predict a restaurant’s **aggregate rating** based on available features.  \n",
    "\n",
    "### **🎯 Key Goals:**  \n",
    "1️⃣ **Build a regression model** to predict restaurant ratings.  \n",
    "2️⃣ **Split the dataset into training and testing sets** to evaluate model performance.  \n",
    "3️⃣ **Experiment with different algorithms** (e.g., **Linear Regression, Decision Trees, Random Forest**) and compare their performance.  \n",
    "\n",
    "This analysis will help:  \n",
    "✔ Identify the **factors influencing restaurant ratings**.  \n",
    "✔ Improve **prediction accuracy** by testing different models.  \n",
    "✔ Understand which **features contribute most to customer ratings**.  \n"
   ]
  },
  {
   "cell_type": "code",
   "execution_count": 20,
   "id": "a212c202-3269-4106-8bdb-0bae5a6a5635",
   "metadata": {},
   "outputs": [],
   "source": [
    "import pandas as pd\n",
    "df = pd.read_csv('level_2_dataset.csv')"
   ]
  },
  {
   "cell_type": "markdown",
   "id": "addb41d5-0864-4866-a642-c71f251e6031",
   "metadata": {},
   "source": [
    "### ** Step 1: Prepare the Dataset for Predictive Modeling**  \r\n",
    "\r\n",
    "Before building a model, we need to **prepare the dataset** by selecting relevant features and handling missing values.  \r\n",
    "\r\n",
    "---\r\n",
    "\r\n",
    "### **🔹 Tasks in Step 1:**  \r\n",
    "✔ **Select relevant features** that can help predict restaurant ratings.  \r\n",
    "✔ **Handle missing values**, if any, to avoid errors in model training.  \r\n",
    "✔ **Ensure categorical features are encoded** so they can be used in regression models.  \r\n",
    "\r\n",
    "---\r\n",
    "\r\n",
    "### **📊 Selecting Features for Prediction**  \r\n",
    "We will use the following columns as **predictor variables (features):**  \r\n",
    "✔ **Price Range** – Higher prices may impact ratings.  \r\n",
    "✔ **Votes** – More reviews might indicate better ratings.  \r\n",
    "✔ **Has Table Booking** – May influence customer experience.  \r\n",
    "✔ **Has Online Delivery** – Convenience might affect ratings.  \r\n",
    "✔ **Cuisines** – Certain cuisines might be rated higher.  \r\n",
    "✔ **Restaurant Name Length** – Longer names might indicate pr\n",
    "mium restaurants.  \r\n",
    "\r\n",
    "Our **target variable (label)**:  \r\n",
    "✔ **Aggregate Rating** (the valuing the Dataset for Training and Testing!** 🚀"
   ]
  },
  {
   "cell_type": "code",
   "execution_count": 24,
   "id": "e7d71faf-8025-4b1d-85a1-220829e261e9",
   "metadata": {},
   "outputs": [
    {
     "name": "stdout",
     "output_type": "stream",
     "text": [
      "<class 'pandas.core.frame.DataFrame'>\n",
      "RangeIndex: 9551 entries, 0 to 9550\n",
      "Data columns (total 6 columns):\n",
      " #   Column                  Non-Null Count  Dtype  \n",
      "---  ------                  --------------  -----  \n",
      " 0   Price range             9551 non-null   int64  \n",
      " 1   Votes                   9551 non-null   int64  \n",
      " 2   Has Table booking       9551 non-null   int64  \n",
      " 3   Has Online delivery     9551 non-null   int64  \n",
      " 4   Restaurant Name Length  9551 non-null   int64  \n",
      " 5   Aggregate rating        9551 non-null   float64\n",
      "dtypes: float64(1), int64(5)\n",
      "memory usage: 447.8 KB\n"
     ]
    },
    {
     "data": {
      "text/html": [
       "<div>\n",
       "<style scoped>\n",
       "    .dataframe tbody tr th:only-of-type {\n",
       "        vertical-align: middle;\n",
       "    }\n",
       "\n",
       "    .dataframe tbody tr th {\n",
       "        vertical-align: top;\n",
       "    }\n",
       "\n",
       "    .dataframe thead th {\n",
       "        text-align: right;\n",
       "    }\n",
       "</style>\n",
       "<table border=\"1\" class=\"dataframe\">\n",
       "  <thead>\n",
       "    <tr style=\"text-align: right;\">\n",
       "      <th></th>\n",
       "      <th>Price range</th>\n",
       "      <th>Votes</th>\n",
       "      <th>Has Table booking</th>\n",
       "      <th>Has Online delivery</th>\n",
       "      <th>Restaurant Name Length</th>\n",
       "      <th>Aggregate rating</th>\n",
       "    </tr>\n",
       "  </thead>\n",
       "  <tbody>\n",
       "    <tr>\n",
       "      <th>0</th>\n",
       "      <td>3</td>\n",
       "      <td>314</td>\n",
       "      <td>1</td>\n",
       "      <td>0</td>\n",
       "      <td>16</td>\n",
       "      <td>4.8</td>\n",
       "    </tr>\n",
       "    <tr>\n",
       "      <th>1</th>\n",
       "      <td>3</td>\n",
       "      <td>591</td>\n",
       "      <td>1</td>\n",
       "      <td>0</td>\n",
       "      <td>16</td>\n",
       "      <td>4.5</td>\n",
       "    </tr>\n",
       "    <tr>\n",
       "      <th>2</th>\n",
       "      <td>4</td>\n",
       "      <td>270</td>\n",
       "      <td>1</td>\n",
       "      <td>0</td>\n",
       "      <td>22</td>\n",
       "      <td>4.4</td>\n",
       "    </tr>\n",
       "    <tr>\n",
       "      <th>3</th>\n",
       "      <td>4</td>\n",
       "      <td>365</td>\n",
       "      <td>0</td>\n",
       "      <td>0</td>\n",
       "      <td>4</td>\n",
       "      <td>4.9</td>\n",
       "    </tr>\n",
       "    <tr>\n",
       "      <th>4</th>\n",
       "      <td>4</td>\n",
       "      <td>229</td>\n",
       "      <td>1</td>\n",
       "      <td>0</td>\n",
       "      <td>11</td>\n",
       "      <td>4.8</td>\n",
       "    </tr>\n",
       "  </tbody>\n",
       "</table>\n",
       "</div>"
      ],
      "text/plain": [
       "   Price range  Votes  Has Table booking  Has Online delivery  \\\n",
       "0            3    314                  1                    0   \n",
       "1            3    591                  1                    0   \n",
       "2            4    270                  1                    0   \n",
       "3            4    365                  0                    0   \n",
       "4            4    229                  1                    0   \n",
       "\n",
       "   Restaurant Name Length  Aggregate rating  \n",
       "0                      16               4.8  \n",
       "1                      16               4.5  \n",
       "2                      22               4.4  \n",
       "3                       4               4.9  \n",
       "4                      11               4.8  "
      ]
     },
     "execution_count": 24,
     "metadata": {},
     "output_type": "execute_result"
    }
   ],
   "source": [
    "# Selecting relevant features\n",
    "features = ['Price range', 'Votes', 'Has Table booking', 'Has Online delivery', 'Restaurant Name Length']\n",
    "target = 'Aggregate rating'\n",
    "\n",
    "# Drop missing values (if any)\n",
    "df_model = df[features + [target]].dropna()\n",
    "\n",
    "# Display dataset summary\n",
    "df_model.info()\n",
    "df_model.head()\n"
   ]
  },
  {
   "cell_type": "markdown",
   "id": "26a648e1-b19a-4b98-8c59-56a4f4bd130e",
   "metadata": {},
   "source": [
    "### Step 2: Split the Dataset into Training and Testing Sets\n",
    "To train and evaluate the model, we need to:\\\n",
    "\n",
    "✔ Split the dataset into training (80%) and testing (20%) sets.\n",
    "\n",
    "✔ Ensure that the training data is used for model learning, while the testing data is used for evaluation."
   ]
  },
  {
   "cell_type": "code",
   "execution_count": 28,
   "id": "9f6f1339-f3a7-47f5-aacc-97ccb67e9bbc",
   "metadata": {},
   "outputs": [
    {
     "name": "stdout",
     "output_type": "stream",
     "text": [
      "Training Set Size: 7640 samples\n",
      "Testing Set Size: 1911 samples\n"
     ]
    }
   ],
   "source": [
    "from sklearn.model_selection import train_test_split\n",
    "\n",
    "# Define features and target variable\n",
    "X = df_model.drop(columns=['Aggregate rating'])  # Features\n",
    "y = df_model['Aggregate rating']  # Target\n",
    "\n",
    "# Split the data (80% training, 20% testing)\n",
    "X_train, X_test, y_train, y_test = train_test_split(X, y, test_size=0.2, random_state=42)\n",
    "\n",
    "# Print dataset sizes\n",
    "print(f\"Training Set Size: {X_train.shape[0]} samples\")\n",
    "print(f\"Testing Set Size: {X_test.shape[0]} samples\")\n"
   ]
  },
  {
   "cell_type": "markdown",
   "id": "cdc44ca6-9ee3-4cab-9dcd-749165f9cc01",
   "metadata": {},
   "source": [
    "### Step 3: Train the Regression Model\n",
    "Now, we will train a Linear Regression model to predict restaurant ratings."
   ]
  },
  {
   "cell_type": "code",
   "execution_count": 31,
   "id": "79dc93ac-b94d-4ba9-81b8-29a7bd67b6a5",
   "metadata": {},
   "outputs": [
    {
     "name": "stdout",
     "output_type": "stream",
     "text": [
      "Model trained successfully!\n",
      "Intercept: 1.2845738556586235\n",
      "Coefficients: [ 0.65772842  0.00067349 -0.23765294  0.64155048 -0.00354277]\n"
     ]
    }
   ],
   "source": [
    "from sklearn.linear_model import LinearRegression\n",
    "\n",
    "# Initialize the model\n",
    "model = LinearRegression()\n",
    "\n",
    "# Train the model\n",
    "model.fit(X_train, y_train)\n",
    "\n",
    "# Print model coefficients\n",
    "print(\"Model trained successfully!\")\n",
    "print(f\"Intercept: {model.intercept_}\")\n",
    "print(f\"Coefficients: {model.coef_}\")\n"
   ]
  },
  {
   "cell_type": "markdown",
   "id": "dc36d40c-7323-46b7-8a8a-bab95b182609",
   "metadata": {},
   "source": [
    "Great work, Daud! ✅ Your **Linear Regression model** has been successfully trained. 🚀  \r\n",
    "\r\n",
    "---\r\n",
    "\r\n",
    "### **📊 Interpretation of Model Results**  \r\n",
    "✔ **Intercept:** `1.28` → This is the **baseline rating** when all other features are `0`.  \r\n",
    "✔ **Coefficients:**  \r\n",
    "   - **Price Range (`0.6577`)** → Higher-priced restaurants tend to have **higher ratings**.  \r\n",
    "   - **Votes (`0.00067`)** → More votes **slightly** increase ratings.  \r\n",
    "   - **Has Table Booking (`-0.2376`)** → Restaurants with table booking tend to have **slightly lower ratings**.  \r\n",
    "   - **Has Online Delivery (`0.6415`)** → Restaurants with online delivery **tend to have higher ratings**.  \r\n",
    "   - **Restaurant Name Length (`-0.0035`)** → The length of the restaurant name **has almost no impact on rd R² values**?  \r\n",
    "3️⃣ **Once done, we’ll compare models in Step 5!** 🚀"
   ]
  },
  {
   "cell_type": "markdown",
   "id": "089f3b1a-a638-42bf-9d34-c8f748315c1c",
   "metadata": {},
   "source": [
    "### Step 4: Evaluate the Model’s Performance\n",
    "Now, let’s check how well the model performs by making predictions and calculating errors."
   ]
  },
  {
   "cell_type": "code",
   "execution_count": 37,
   "id": "f90b8e0b-ebee-4d24-897a-8b2ceeab1925",
   "metadata": {},
   "outputs": [
    {
     "name": "stdout",
     "output_type": "stream",
     "text": [
      "Mean Absolute Error (MAE): 1.0740211125047767\n",
      "Mean Squared Error (MSE): 1.6739343644806781\n",
      "R-squared (R²): 0.2645631770677763\n"
     ]
    }
   ],
   "source": [
    "from sklearn.metrics import mean_absolute_error, mean_squared_error, r2_score\n",
    "\n",
    "# Make predictions on the test set\n",
    "y_pred = model.predict(X_test)\n",
    "\n",
    "# Calculate evaluation metrics\n",
    "mae = mean_absolute_error(y_test, y_pred)\n",
    "mse = mean_squared_error(y_test, y_pred)\n",
    "r2 = r2_score(y_test, y_pred)\n",
    "\n",
    "# Print results\n",
    "print(f\"Mean Absolute Error (MAE): {mae}\")\n",
    "print(f\"Mean Squared Error (MSE): {mse}\")\n",
    "print(f\"R-squared (R²): {r2}\")\n"
   ]
  },
  {
   "cell_type": "markdown",
   "id": "c4ba9e3f-b099-4557-94c5-514930aeadfc",
   "metadata": {},
   "source": [
    "### Step 5: Experiment with Different Models\n",
    "Since Linear Regression is not performing well, let’s try Decision Trees and Random Forest to see if they improve predictions."
   ]
  },
  {
   "cell_type": "code",
   "execution_count": 42,
   "id": "a25be9dd-59d1-43ea-93a3-5b5608f60399",
   "metadata": {},
   "outputs": [
    {
     "name": "stdout",
     "output_type": "stream",
     "text": [
      "Decision Tree MAE: 0.3232952912544749\n",
      "Decision Tree MSE: 0.2405138514404347\n",
      "Decision Tree R²: 0.894331135958594\n"
     ]
    }
   ],
   "source": [
    "from sklearn.tree import DecisionTreeRegressor\n",
    "\n",
    "# Initialize the model\n",
    "tree_model = DecisionTreeRegressor(random_state=42)\n",
    "\n",
    "# Train the model\n",
    "tree_model.fit(X_train, y_train)\n",
    "\n",
    "# Make predictions\n",
    "y_tree_pred = tree_model.predict(X_test)\n",
    "\n",
    "# Evaluate the model\n",
    "mae_tree = mean_absolute_error(y_test, y_tree_pred)\n",
    "mse_tree = mean_squared_error(y_test, y_tree_pred)\n",
    "r2_tree = r2_score(y_test, y_tree_pred)\n",
    "\n",
    "# Print results\n",
    "print(f\"Decision Tree MAE: {mae_tree}\")\n",
    "print(f\"Decision Tree MSE: {mse_tree}\")\n",
    "print(f\"Decision Tree R²: {r2_tree}\")\n"
   ]
  },
  {
   "cell_type": "markdown",
   "id": "7ef80024-66f7-4f53-9dfa-f6a07bf626c5",
   "metadata": {},
   "source": [
    "### Step 6: Test Random Forest Model\n",
    "Now, let’s check if a Random Forest model performs even better than Decision Trees."
   ]
  },
  {
   "cell_type": "code",
   "execution_count": 45,
   "id": "dc95f155-d253-4edd-8185-824aa7d0ec0e",
   "metadata": {},
   "outputs": [
    {
     "name": "stdout",
     "output_type": "stream",
     "text": [
      "Random Forest MAE: 0.24866600364045877\n",
      "Random Forest MSE: 0.14314686050976536\n",
      "Random Forest R²: 0.9371089604587426\n"
     ]
    }
   ],
   "source": [
    "from sklearn.ensemble import RandomForestRegressor\n",
    "\n",
    "# Initialize the model\n",
    "rf_model = RandomForestRegressor(n_estimators=100, random_state=42)\n",
    "\n",
    "# Train the model\n",
    "rf_model.fit(X_train, y_train)\n",
    "\n",
    "# Make predictions\n",
    "y_rf_pred = rf_model.predict(X_test)\n",
    "\n",
    "# Evaluate the model\n",
    "mae_rf = mean_absolute_error(y_test, y_rf_pred)\n",
    "mse_rf = mean_squared_error(y_test, y_rf_pred)\n",
    "r2_rf = r2_score(y_test, y_rf_pred)\n",
    "\n",
    "# Print results\n",
    "print(f\"Random Forest MAE: {mae_rf}\")\n",
    "print(f\"Random Forest MSE: {mse_rf}\")\n",
    "print(f\"Random Forest R²: {r2_rf}\")\n"
   ]
  },
  {
   "cell_type": "markdown",
   "id": "64e5b38b-3946-4144-a0e7-d6c4eff291df",
   "metadata": {},
   "source": [
    "\r\n",
    "\r\n",
    "### **📊 Level 3 – Task 1: Predictive Modeling**  \r\n",
    "\r\n",
    "---\r\n",
    "\r\n",
    "## **📌 Objective**  \r\n",
    "The goal of this task is to build a **regression model** to predict the **aggregate rating** of a restaurant based on available features.  \r\n",
    "\r\n",
    "### **🎯 Key Goals:**  \r\n",
    "1️⃣ **Build a regression model** to predict restaurant ratings.  \r\n",
    "2️⃣ **Split the dataset into training and testing sets** to evaluate model performance.  \r\n",
    "3️⃣ **Experiment with different algorithms** (Linear Regression, Decision Trees, Random Forest) and compare their performance.  \r\n",
    "\r\n",
    "This analysis helps in understanding:  \r\n",
    "✔ **Which factors influence restaurant ratings the most**.  \r\n",
    "✔ **Which machine learning model gives the best predictions**.  \r\n",
    "✔ **How well we can predict customer preferences based on restaurant features**.  \r\n",
    "\r\n",
    "---\r\n",
    "\r\n",
    "## **1️⃣ Step 1: Prepare the Dataset for Predictive Modeling**  \r\n",
    "### **🔹 Process:**  \r\n",
    "✔ Selected relevant features:  \r\n",
    "   - **Price Range** (pricing level of the restaurant).  \r\n",
    "   - **Votes** (total customer votes).  \r\n",
    "   - **Has Table Booking** (binary: 1 = Yes, 0 = No).  \r\n",
    "   - **Has Online Delivery** (binary: 1 = Yes, 0 = No).  \r\n",
    "   - **Restaurant Name Length** (length of the restaurant name).  \r\n",
    "✔ Dropped missing values to ensure a clean dataset.  \r\n",
    "\r\n",
    "### **📊 Summary of the Prepared Dataset:**  \r\n",
    "- **Total Entries:** 9,551  \r\n",
    "- **Columns Used:** 5 predictor variables + 1 target variable (Aggregate Rating).  \r\n",
    "\r\n",
    "---\r\n",
    "\r\n",
    "## **2️⃣ Step 2: Split the Dataset into Training and Testing Sets**  \r\n",
    "✔ Split the dataset into:  \r\n",
    "   - **Training Set (80%) → 7,640 samples**.  \r\n",
    "   - **Testing Set (20%) → 1,911 samples**.  \r\n",
    "✔ Ensured that the model was trained on one part of the data and tested on unseen data.  \r\n",
    "\r\n",
    "---\r\n",
    "\r\n",
    "## **3️⃣ Step 3: Train the Regression Models**  \r\n",
    "### **🔹 Linear Regression Model**  \r\n",
    "- **Intercept:** `1.28`  \r\n",
    "- **Coefficients:**  \r\n",
    "   - **Price Range (0.6577)** → Higher price → **Higher ratings**.  \r\n",
    "   - **Votes (0.00067)** → More votes → **Slightly better ratings**.  \r\n",
    "   - **Has Table Booking (-0.2376)** → Table booking **slightly lowers ratings**.  \r\n",
    "   - **Has Online Delivery (0.6415)** → Online delivery **increases ratings**.  \r\n",
    "   - **Restaurant Name Length (-0.0035)** → **No significant impact** on ratings.  \r\n",
    "\r\n",
    "### **📊 Model Performance (Linear Regression)**  \r\n",
    "- **MAE:** `1.07` (average prediction error).  \r\n",
    "- **MSE:** `1.67` (error magnitude).  \r\n",
    "- **R²:** `0.26` (**only 26% variance explained** → Poor performance).  \r\n",
    "\r\n",
    "---\r\n",
    "\r\n",
    "## **4️⃣ Step 4: Train a Decision Tree Model**  \r\n",
    "✔ **Decision Tree Model** was trained to see if it performed better.  \r\n",
    "\r\n",
    "### **📊 Model Performance (Decision Tree)**  \r\n",
    "- **MAE:** `0.32` ✅ (better than Linear Regression).  \r\n",
    "- **MSE:** `0.24` ✅ (lower error).  \r\n",
    "- **R²:** `0.89` ✅ (explains 89% of the variation in ratings).  \r\n",
    "\r\n",
    "🔹 **Key Insight:** Decision Tree performed **significantly better** than Linear Regression.  \r\n",
    "\r\n",
    "---\r\n",
    "\r\n",
    "## **5️⃣ Step 5: Train a Random Forest Model**  \r\n",
    "✔ **Random Forest Model** was tested to compare its accuracy with Decision Tree.  \r\n",
    "\r\n",
    "### **📊 Model Performance (Random Forest)**  \r\n",
    "- **MAE:** `0.24` ✅ (**Best**).  \r\n",
    "- **MSE:** `0.14` ✅ (**Lowest error**).  \r\n",
    "- **R²:** `0.94` ✅ (**Explains 94% of rating variations**).  \r\n",
    "\r\n",
    "🔹 **Key Insight:** **Random Forest is the best model** for predicting restaurant ratings.  \r\n",
    "\r\n",
    "---\r\n",
    "\r\n",
    "## **6️⃣ Final Model Comparison**  \r\n",
    "\r\n",
    "| Model               | MAE (Lower is Better) | MSE (Lower is Better) | R² (Higher is Better) |\r\n",
    "|--------------------|--------------------|--------------------|--------------------|\r\n",
    "| **Linear Regression**  | 1.07  ❌ | 1.67  ❌ | 0.26  ❌ |\r\n",
    "| **Decision Tree**      | 0.32  ✅ | 0.24  ✅ | 0.89  ✅ |\r\n",
    "| **Random Forest**      | ✅ **0.24** (Best) | ✅ **0.14** (Best) | ✅ **0.94** (Best) |\r\n",
    "\r\n",
    "🔹 **Final Takeaways:**  \r\n",
    "✅ **Random Forest is the best model** with the lowest error and highest accuracy.  \r\n",
    "✅ The **most influential factors** for predicting ratings are **Price Range, Votes, and Online Delivery**.  \r\n",
    "✅ **Table booking negatively impacted ratings**, which may indicate customer dissatisfaction with booking experiences.  \r\n",
    "\r\n",
    "---\r\n",
    "\r\n",
    "## **🎯 Final Summary**  \r\n",
    "✔ Successfully **built and tested predictive models** to estimate restaurant ratings.  \r\n",
    "✔ Discovered that **Random Forest outperfort\n",
    "\r\n",
    "---\r\n",
    "\r\n",
    "✅ **Save this text for your documentation.**  \r\n",
    "🚀 **Let me know if you’re ready to start Task 2!** 😊"
   ]
  },
  {
   "cell_type": "code",
   "execution_count": null,
   "id": "5a434fd1-5394-497e-b369-bb8cd11db950",
   "metadata": {},
   "outputs": [],
   "source": []
  }
 ],
 "metadata": {
  "kernelspec": {
   "display_name": "Python 3 (ipykernel)",
   "language": "python",
   "name": "python3"
  },
  "language_info": {
   "codemirror_mode": {
    "name": "ipython",
    "version": 3
   },
   "file_extension": ".py",
   "mimetype": "text/x-python",
   "name": "python",
   "nbconvert_exporter": "python",
   "pygments_lexer": "ipython3",
   "version": "3.12.3"
  }
 },
 "nbformat": 4,
 "nbformat_minor": 5
}
