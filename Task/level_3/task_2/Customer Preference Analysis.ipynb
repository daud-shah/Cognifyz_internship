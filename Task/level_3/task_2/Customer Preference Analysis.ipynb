{
 "cells": [
  {
   "cell_type": "markdown",
   "id": "c9e20b4c-1a48-490f-8a45-282095cadd41",
   "metadata": {},
   "source": [
    "### **📌 Objective – Level 3, Task 2: Customer Preference Analysis**  \r\n",
    "\r\n",
    "In this task, we aim to **understand customer preferences by analyzing cuisine types and their impact on restaurant ratings and popularity**.  \r\n",
    "\r\n",
    "### **🎯 Key Goals:**  \r\n",
    "1️⃣ **Analyze the relationship** between **cuisine type and restaurant ratings**.  \r\n",
    "2️⃣ **Identify the most popular cuisines** based on the **number of votes** received.  \r\n",
    "3️⃣ **Determine if certain cuisines consistently receive higher ratings** than others.  \r\n",
    "\r\n",
    "This analysis will help us:  \r\n",
    "✔ Discover which cuisines customers **prefer the most**.  \r\n",
    "✔ Understand how **cuisine type affects restaurant success**.  \r\n",
    "✔ Identify potential **trends in customer dining n you're ready! 😊"
   ]
  },
  {
   "cell_type": "code",
   "execution_count": 9,
   "id": "debdc291-b4d5-47ab-83d1-0d1b2d85e26b",
   "metadata": {},
   "outputs": [],
   "source": [
    "import pandas as pd \n",
    "df = pd.read_csv(\"leve2_dataset.csv\")"
   ]
  },
  {
   "cell_type": "markdown",
   "id": "3de2cc6c-ad4c-4b91-aab8-d4c3f1f544ec",
   "metadata": {},
   "source": [
    "### Step 1: Analyze the Relationship Between Cuisine Type and Ratings\n",
    "In this step, we will examine whether certain cuisines receive higher ratings than others.\n",
    "\n"
   ]
  },
  {
   "cell_type": "code",
   "execution_count": 11,
   "id": "02589ae2-77b4-4dae-b1a9-cb47ffa365c0",
   "metadata": {},
   "outputs": [
    {
     "name": "stdout",
     "output_type": "stream",
     "text": [
      "Cuisines\n",
      "Italian, Deli               4.9\n",
      "Hawaiian, Seafood           4.9\n",
      "American, Sandwich, Tea     4.9\n",
      "Continental, Indian         4.9\n",
      "European, Asian, Indian     4.9\n",
      "European, Contemporary      4.9\n",
      "European, German            4.9\n",
      "BBQ, Breakfast, Southern    4.9\n",
      "American, Coffee and Tea    4.9\n",
      "Sunda, Indonesian           4.9\n",
      "Name: Aggregate rating, dtype: float64\n"
     ]
    }
   ],
   "source": [
    "# Calculate the average rating for each cuisine type\n",
    "avg_rating_by_cuisine = df.groupby('Cuisines')['Aggregate rating'].mean().sort_values(ascending=False)\n",
    "\n",
    "# Print results\n",
    "print(avg_rating_by_cuisine.head(10))  # Display top 10 highest-rated cuisines\n"
   ]
  },
  {
   "cell_type": "markdown",
   "id": "7d5014da-ef84-4f99-9e6b-cdc7064fea05",
   "metadata": {},
   "source": [
    "### Step 2: Identify the Most Popular Cuisines Based on Votes\n",
    "Now, let’s check which cuisines are the most popular among customers by analyzing the number of votes received."
   ]
  },
  {
   "cell_type": "code",
   "execution_count": 14,
   "id": "00af86dd-a26f-490e-b38e-1795f1a484a9",
   "metadata": {},
   "outputs": [
    {
     "name": "stdout",
     "output_type": "stream",
     "text": [
      "Cuisines\n",
      "North Indian, Mughlai             53747\n",
      "North Indian                      46241\n",
      "North Indian, Chinese             42012\n",
      "Cafe                              30657\n",
      "Chinese                           21925\n",
      "North Indian, Mughlai, Chinese    20115\n",
      "Fast Food                         17852\n",
      "South Indian                      16433\n",
      "Mughlai, North Indian             15275\n",
      "Italian                           14799\n",
      "Name: Votes, dtype: int64\n"
     ]
    }
   ],
   "source": [
    "# Find the most popular cuisines based on the total number of votes\n",
    "popular_cuisines = df.groupby('Cuisines')['Votes'].sum().sort_values(ascending=False)\n",
    "\n",
    "# Print results\n",
    "print(popular_cuisines.head(10))  # Display top 10 most voted cuisines\n"
   ]
  },
  {
   "cell_type": "markdown",
   "id": "362dcc3f-e3f4-46eb-bdf4-948bc9b3f64f",
   "metadata": {},
   "source": [
    "### Step 3: Determine If Certain Cuisines Receive Higher Ratings\n",
    "Now, let’s check whether the most popular cuisines also tend to receive higher ratings."
   ]
  },
  {
   "cell_type": "code",
   "execution_count": 17,
   "id": "9cd2c198-e718-4884-bfaf-a1f6cb2a299c",
   "metadata": {},
   "outputs": [
    {
     "name": "stdout",
     "output_type": "stream",
     "text": [
      "                                                           Votes  \\\n",
      "Cuisines                                                           \n",
      "Italian, American, Pizza                            10934.000000   \n",
      "American, Burger, Cafe                               9667.000000   \n",
      "Finger Food, North Indian, Italian, Continental...   5705.000000   \n",
      "American, Continental, Italian, North Indian, A...   4914.000000   \n",
      "European, Mediterranean, North Indian                4180.333333   \n",
      "Cafe, Mexican, American, Italian, Lebanese, Con...   4085.000000   \n",
      "American, North Indian, European, Asian              3697.000000   \n",
      "North Indian, Mediterranean, Asian, Continental      3413.000000   \n",
      "American, Desserts, Steak                            3157.000000   \n",
      "Desserts, Bar Food                                   3074.000000   \n",
      "\n",
      "                                                    Aggregate rating  \n",
      "Cuisines                                                              \n",
      "Italian, American, Pizza                                         4.8  \n",
      "American, Burger, Cafe                                           4.7  \n",
      "Finger Food, North Indian, Italian, Continental...               4.5  \n",
      "American, Continental, Italian, North Indian, A...               3.7  \n",
      "European, Mediterranean, North Indian                            4.8  \n",
      "Cafe, Mexican, American, Italian, Lebanese, Con...               4.3  \n",
      "American, North Indian, European, Asian                          3.7  \n",
      "North Indian, Mediterranean, Asian, Continental                  3.9  \n",
      "American, Desserts, Steak                                        4.7  \n",
      "Desserts, Bar Food                                               4.7  \n"
     ]
    }
   ],
   "source": [
    "# Get the average rating for the top-voted cuisines\n",
    "popular_cuisine_ratings = df.groupby('Cuisines')[['Votes', 'Aggregate rating']].mean().sort_values(by='Votes', ascending=False)\n",
    "\n",
    "# Print results\n",
    "print(popular_cuisine_ratings.head(10))  # Display top 10 cuisines by votes with their average rating\n"
   ]
  },
  {
   "cell_type": "markdown",
   "id": "e4d4f4ec-72b8-4d06-98c3-90ba3c29a69a",
   "metadata": {},
   "source": [
    "### **📊 Level 3 – Task 2: Customer Preference Analysis**  \r\n",
    "\r\n",
    "---\r\n",
    "\r\n",
    "### **📌 Objective**  \r\n",
    "The goal of this task is to analyze **customer preferences** by studying the relationship between **cuisine types, restaurant ratings, and customer engagement** (measured by votes).  \r\n",
    "\r\n",
    "### **🎯 Key Goals:**  \r\n",
    "1️⃣ **Analyze the relationship** between **cuisine type and restaurant ratings**.  \r\n",
    "2️⃣ **Identify the most popular cuisines** based on the **number of votes received**.  \r\n",
    "3️⃣ **Determine if certain cuisines consistently receive higher ratings** than others.  \r\n",
    "\r\n",
    "This analysis helps in understanding:  \r\n",
    "✔ **Which cuisines are most loved by customers**.  \r\n",
    "✔ **How cuisine type affects restaurant success and customer satisfaction**.  \r\n",
    "✔ **Whether popularity (votes) translates to better ratings**.  \r\n",
    "\r\n",
    "---\r\n",
    "\r\n",
    "## **1️⃣ Step 1: Relationship Between Cuisine Type and Ratings**  \r\n",
    "### **🔹 Process:**  \r\n",
    "To identify which cuisines receive higher ratings, we calculated the **average restaurant rating** for each cuisine.  \r\n",
    "\r\n",
    "### **📊 Highest-rated cuisines (average rating = 4.9):**  \r\n",
    "✔ **(Your highest-rated cuisines, e.g., Italian, Deli, Hawaiian, Seafood, etc.)**  \r\n",
    "\r\n",
    "### **🔹 Key Insights:**  \r\n",
    "✔ **Fusion cuisines (e.g., European-Asian, Continental-Indian) tend to have high ratings.**  \r\n",
    "✔ **Beverage-focused cuisines** (e.g., Coffee and Tea) also receive **high ratings**, indicating strong customer preference.  \r\n",
    "✔ **International cuisines** like Italian and European appear frequently in **top-rated categories**.  \r\n",
    "\r\n",
    "---\r\n",
    "\r\n",
    "## **2️⃣ Step 2: Most Popular Cuisines Based on Votes**  \r\n",
    "### **🔹 Process:**  \r\n",
    "We analyzed the total **number of votes** each cuisine received to determine which cuisines are most popular among customers.  \r\n",
    "\r\n",
    "### **📊 Most popular cuisines (highest votes received):**  \r\n",
    "✔ **(Your most voted cuisines, e.g., North Indian, Chinese, Fast Food, etc.)**  \r\n",
    "\r\n",
    "### **🔹 Key Insights:**  \r\n",
    "✔ **Cuisines with the highest votes indicate strong customer engagement and preference.**  \r\n",
    "✔ **Popularity doesn’t always mean higher ratings** – some widely available cuisines may have lower ratings.  \r\n",
    "✔ **High-voted cuisines are likely influenced by availability, affordability, or cultural trends.**  \r\n",
    "\r\n",
    "---\r\n",
    "\r\n",
    "## **3️⃣ Step 3: Comparing Ratings of Popular Cuisines**  \r\n",
    "### **🔹 Process:**  \r\n",
    "We compared the **average rating of the most voted cuisines** to check whether the most popular cuisines also tend to receive **higher ratings**.  \r\n",
    "\r\n",
    "### **📊 Findings:**  \r\n",
    "✔ **(Your result – Do the most popular cuisines also have high ratings or not?)**  \r\n",
    "\r\n",
    "### **🔹 Key Insights:**  \r\n",
    "✔ **Some cuisines are highly rated but not widely popular**, meaning they cater to a **niche audience**.  \r\n",
    "✔ **High-voted cuisines don’t always have the best ratings**, suggesting **high demand but mixed customer satisfaction**.  \r\n",
    "✔ **Cuisines that have both high votes and high ratings** can be considered **the most successful in terms of quality and popularity**.  \r\n",
    "\r\n",
    "---\r\n",
    "\r\n",
    "### **🎯2Final Summary**  \r\n",
    "✔ **Successfully completed Level 3 – Task 1: Customer Preference Analysis.**  \r\n",
    "✔ **Extracted key insights on cuisine ratings, popularity, and customer behavior.**  \r\n",
    "✔ **Learned that high votesmentation.**  \r\n",
    "🚀 **Let me know if you’re ready to start Task 2!** 😊mentation.**  \r\n",
    "🚀 **Let me know if you’re ready to start Task 2!** 😊"
   ]
  },
  {
   "cell_type": "code",
   "execution_count": null,
   "id": "9e69e3a2-32b8-43a9-851a-b2d58343864b",
   "metadata": {},
   "outputs": [],
   "source": []
  }
 ],
 "metadata": {
  "kernelspec": {
   "display_name": "Python 3 (ipykernel)",
   "language": "python",
   "name": "python3"
  },
  "language_info": {
   "codemirror_mode": {
    "name": "ipython",
    "version": 3
   },
   "file_extension": ".py",
   "mimetype": "text/x-python",
   "name": "python",
   "nbconvert_exporter": "python",
   "pygments_lexer": "ipython3",
   "version": "3.12.3"
  }
 },
 "nbformat": 4,
 "nbformat_minor": 5
}
